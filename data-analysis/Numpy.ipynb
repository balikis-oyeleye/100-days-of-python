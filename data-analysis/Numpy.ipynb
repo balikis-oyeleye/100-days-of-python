{
 "cells": [
  {
   "cell_type": "markdown",
   "id": "25448a20",
   "metadata": {},
   "source": [
    "**Import numpy as np and print the version number.**"
   ]
  },
  {
   "cell_type": "code",
   "execution_count": 22,
   "id": "6cd32a18",
   "metadata": {},
   "outputs": [
    {
     "name": "stdout",
     "output_type": "stream",
     "text": [
      "1.24.3\n"
     ]
    }
   ],
   "source": [
    "import numpy as np\n",
    "print(np.__version__)"
   ]
  },
  {
   "cell_type": "markdown",
   "id": "ef2e1bb6",
   "metadata": {},
   "source": [
    " **Create a 1D array of numbers from 0 to 9**"
   ]
  },
  {
   "cell_type": "code",
   "execution_count": 30,
   "id": "c6658269",
   "metadata": {},
   "outputs": [
    {
     "name": "stdout",
     "output_type": "stream",
     "text": [
      "[0 1 2 3 4 5 6 7 8 9]\n"
     ]
    }
   ],
   "source": [
    "arr = np.arange(0,10)\n",
    "print(arr)"
   ]
  },
  {
   "cell_type": "markdown",
   "id": "ff7a8232",
   "metadata": {},
   "source": [
    "**Create a 3×3 numpy array of all True’s**"
   ]
  },
  {
   "cell_type": "code",
   "execution_count": 35,
   "id": "08ea00ff",
   "metadata": {},
   "outputs": [
    {
     "name": "stdout",
     "output_type": "stream",
     "text": [
      "[[ True  True  True]\n",
      " [ True  True  True]\n",
      " [ True  True  True]]\n"
     ]
    }
   ],
   "source": [
    "boolArr = np.full((3,3), True, dtype=bool)\n",
    "print(boolArr)"
   ]
  },
  {
   "cell_type": "markdown",
   "id": "f3795345",
   "metadata": {},
   "source": [
    "**Extract all odd numbers from arr**"
   ]
  },
  {
   "cell_type": "code",
   "execution_count": 44,
   "id": "fa2d8f30",
   "metadata": {},
   "outputs": [
    {
     "data": {
      "text/plain": [
       "array([1, 3, 5, 7, 9])"
      ]
     },
     "execution_count": 44,
     "metadata": {},
     "output_type": "execute_result"
    }
   ],
   "source": [
    "oddArr = np.array([0, 1, 2, 3, 4, 5, 6, 7, 8, 9])\n",
    "\n",
    "oddArr[oddArr % 2 == 1]"
   ]
  },
  {
   "cell_type": "markdown",
   "id": "f7bf84e8",
   "metadata": {},
   "source": [
    "**Replace all odd numbers in arr with -1**"
   ]
  },
  {
   "cell_type": "code",
   "execution_count": 49,
   "id": "7f741efd",
   "metadata": {},
   "outputs": [
    {
     "name": "stdout",
     "output_type": "stream",
     "text": [
      "[ 0 -1  2 -1  4 -1  6 -1  8 -1]\n"
     ]
    }
   ],
   "source": [
    "oddArr = np.array([0, 1, 2, 3, 4, 5, 6, 7, 8, 9])\n",
    "oddArr[oddArr % 2 == 1] = -1\n",
    "print(oddArr)"
   ]
  },
  {
   "cell_type": "markdown",
   "id": "3f64eb0c",
   "metadata": {},
   "source": [
    "**Replace all odd numbers in arr with -1 without changing arr**"
   ]
  },
  {
   "cell_type": "code",
   "execution_count": 51,
   "id": "6d634fcb",
   "metadata": {},
   "outputs": [
    {
     "name": "stdout",
     "output_type": "stream",
     "text": [
      "[0 1 2 3 4 5 6 7 8 9]\n",
      "[ 0 -1  2 -1  4 -1  6 -1  8 -1]\n"
     ]
    }
   ],
   "source": [
    "oddArr = np.array([0, 1, 2, 3, 4, 5, 6, 7, 8, 9])\n",
    "oddArrCopy = oddArr.copy()\n",
    "oddArrCopy[oddArrCopy % 2 == 1] = -1\n",
    "print(oddArr)\n",
    "print(oddArrCopy)"
   ]
  },
  {
   "cell_type": "markdown",
   "id": "661788e9",
   "metadata": {},
   "source": [
    "**Convert a 1D array to a 2D array with 2 rows**"
   ]
  },
  {
   "cell_type": "code",
   "execution_count": 55,
   "id": "9aba1dd4",
   "metadata": {},
   "outputs": [
    {
     "data": {
      "text/plain": [
       "array([[0, 1, 2, 3, 4],\n",
       "       [5, 6, 7, 8, 9]])"
      ]
     },
     "execution_count": 55,
     "metadata": {},
     "output_type": "execute_result"
    }
   ],
   "source": [
    "arr = np.arange(10)\n",
    "arr.reshape(2,-1)"
   ]
  },
  {
   "cell_type": "markdown",
   "id": "c35001ba",
   "metadata": {},
   "source": []
  }
 ],
 "metadata": {
  "kernelspec": {
   "display_name": "Python 3 (ipykernel)",
   "language": "python",
   "name": "python3"
  },
  "language_info": {
   "codemirror_mode": {
    "name": "ipython",
    "version": 3
   },
   "file_extension": ".py",
   "mimetype": "text/x-python",
   "name": "python",
   "nbconvert_exporter": "python",
   "pygments_lexer": "ipython3",
   "version": "3.11.5"
  },
  "varInspector": {
   "cols": {
    "lenName": 16,
    "lenType": 16,
    "lenVar": 40
   },
   "kernels_config": {
    "python": {
     "delete_cmd_postfix": "",
     "delete_cmd_prefix": "del ",
     "library": "var_list.py",
     "varRefreshCmd": "print(var_dic_list())"
    },
    "r": {
     "delete_cmd_postfix": ") ",
     "delete_cmd_prefix": "rm(",
     "library": "var_list.r",
     "varRefreshCmd": "cat(var_dic_list()) "
    }
   },
   "types_to_exclude": [
    "module",
    "function",
    "builtin_function_or_method",
    "instance",
    "_Feature"
   ],
   "window_display": false
  }
 },
 "nbformat": 4,
 "nbformat_minor": 5
}
